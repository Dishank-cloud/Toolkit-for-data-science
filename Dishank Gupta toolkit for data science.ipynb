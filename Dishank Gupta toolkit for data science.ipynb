{
 "cells": [
  {
   "cell_type": "markdown",
   "id": "16717468",
   "metadata": {},
   "source": [
    "# My Jupyter Notebook on IBM Watson Studio"
   ]
  },
  {
   "cell_type": "markdown",
   "id": "472c8cb8",
   "metadata": {},
   "source": [
    "**Dishank Gupta**\n",
    "Data Analyst"
   ]
  },
  {
   "cell_type": "markdown",
   "id": "f690bb04",
   "metadata": {},
   "source": [
    "_I am interested in data science because this subject can help in predicting the future events with help the past data_"
   ]
  },
  {
   "cell_type": "markdown",
   "id": "0d7b6156",
   "metadata": {},
   "source": [
    "#### Code is supposed to do addition"
   ]
  },
  {
   "cell_type": "code",
   "execution_count": 7,
   "id": "1d3058c7",
   "metadata": {},
   "outputs": [
    {
     "name": "stdout",
     "output_type": "stream",
     "text": [
      "The sum of 1.5 and 6.3 is 7.8\n"
     ]
    }
   ],
   "source": [
    "num1 = 1.5\n",
    "num2 = 6.3\n",
    "\n",
    "# Add two numbers\n",
    "sum = num1 + num2\n",
    "\n",
    "# Display the sum\n",
    "print('The sum of {0} and {1} is {2}'.format(num1, num2, sum))"
   ]
  },
  {
   "cell_type": "markdown",
   "id": "0314c003",
   "metadata": {},
   "source": [
    "[Fifa world cup 2022 official website link](https://www.fifa.com/fifaplus/en/tournaments/mens/worldcup/qatar2022)"
   ]
  },
  {
   "cell_type": "markdown",
   "id": "596ee23d",
   "metadata": {},
   "source": [
    "![Cristiano Ronaldo wikipedia image](https://en.wikipedia.org/wiki/Cristiano_Ronaldo)"
   ]
  },
  {
   "cell_type": "markdown",
   "id": "8eade46f",
   "metadata": {},
   "source": [
    "1. numbered list item1\n",
    "    1. sub numbered list\n",
    "    2. sub numbered list\n",
    "2. numbered list item2"
   ]
  }
 ],
 "metadata": {
  "kernelspec": {
   "display_name": "Python 3 (ipykernel)",
   "language": "python",
   "name": "python3"
  },
  "language_info": {
   "codemirror_mode": {
    "name": "ipython",
    "version": 3
   },
   "file_extension": ".py",
   "mimetype": "text/x-python",
   "name": "python",
   "nbconvert_exporter": "python",
   "pygments_lexer": "ipython3",
   "version": "3.9.13"
  }
 },
 "nbformat": 4,
 "nbformat_minor": 5
}
